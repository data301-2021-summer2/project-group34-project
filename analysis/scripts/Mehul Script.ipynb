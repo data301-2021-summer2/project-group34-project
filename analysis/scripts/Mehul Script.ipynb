{
 "cells": [
  {
   "cell_type": "code",
   "execution_count": null,
   "id": "bea49927-6f79-44d2-b1e1-5c252ad0178b",
   "metadata": {},
   "outputs": [],
   "source": [
    "def chain(data):\n",
    "    df2 = (\n",
    "             data.loc[:,['Vehicle ID','Make', 'Model','Fuel Type', 'Fuel Type 1', 'Electric Motor', \"Annual Fuel Cost (FT1)\", \"Annual Consumption in Barrels (FT1)\" ]]\n",
    "            .dropna(subset=['Vehicle ID','Make','Fuel Type','Fuel Type 1', \"Annual Fuel Cost (FT1)\", \"Annual Consumption in Barrels (FT1)\"])\n",
    "            .reset_index()\n",
    "            .drop(columns=['index'])\n",
    "    \n",
    "            for i in range(len(data)):\n",
    "                CB =  data[\"Annual Fuel Cost (FT1)\"]/data[\"Annual Consumption in Barrels (FT1)\"])\n",
    "                .insert(1 ,\"Cost per unit consumption\",CB)\n",
    "         \n",
    "    \n",
    "\n",
    "    )\n",
    "    df2"
   ]
  }
 ],
 "metadata": {
  "kernelspec": {
   "display_name": "Python 3 (ipykernel)",
   "language": "python",
   "name": "python3"
  },
  "language_info": {
   "codemirror_mode": {
    "name": "ipython",
    "version": 3
   },
   "file_extension": ".py",
   "mimetype": "text/x-python",
   "name": "python",
   "nbconvert_exporter": "python",
   "pygments_lexer": "ipython3",
   "version": "3.8.5"
  }
 },
 "nbformat": 4,
 "nbformat_minor": 5
}
