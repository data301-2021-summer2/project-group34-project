{
 "cells": [
  {
   "cell_type": "code",
   "execution_count": 1,
   "id": "15bdacaf-a6a3-4b93-98db-f025a3e6f584",
   "metadata": {},
   "outputs": [
    {
     "name": "stderr",
     "output_type": "stream",
     "text": [
      "/Users/garnoor/opt/miniconda3/lib/python3.8/site-packages/IPython/core/interactiveshell.py:3169: DtypeWarning: Columns (7,16,62,64,65,67,68,78) have mixed types.Specify dtype option on import or set low_memory=False.\n",
      "  has_raised = await self.run_ast_nodes(code_ast.body, cell_name,\n"
     ]
    }
   ],
   "source": [
    "import pandas as pd\n",
    "import numpy as np\n",
    "\n",
    "data = pd.read_csv(\"database.csv\")\n",
    "\n",
    "\n",
    "data1=(pd.DataFrame(data.drop(columns=['Unrounded City MPG (FT1)','Unrounded City MPG (FT2)','Highway Range (FT2)','Highway Range (FT1)','City Range (FT1)','City Range (FT2)',\n",
    "                         'Composite Combined MPG','Composite Highway MPG','Composite City MPG','Manufacturer Code','Vehicle Charger','Alternate Charger','Hours to Charge (120V)'\n",
    "                         ,'Hours to Charge (240V)','Hours to Charge (AC 240V)','Range (FT2)','4D Passenger Volume','4D Luggage Volume','Hatchback Passenger Volume',\n",
    "                         'Hatchback Luggage Volume','Electric Motor','Gasoline/Electricity Blended (CD)','Tailpipe CO2 in Grams/Mile (FT2)','GHG Score','GHG Score (Alt Fuel)',\n",
    "                         'My MPG Data','2D Passenger Volume','2D Luggage Volume','Tailpipe CO2 (FT1)','Tailpipe CO2 in Grams/Mile (FT1)','Tailpipe CO2 (FT2)','Start Stop Technology',\n",
    "                         'Annual Consumption in Barrels (FT2)','Annual Fuel Cost (FT2)','Engine Index','Combined Electricity Consumption','Combined Gasoline Consumption (CD)','Combined Utility Factor'\n",
    "                         ,'Gas Guzzler Tax','Range (FT1)','Alternative Fuel/Technology','Unrounded Combined MPG (FT2)','Combined MPG (FT2)','Unrounded Combined MPG (FT1)','Combined MPG (FT1)',\n",
    "                        'Engine Descriptor','Highway Electricity Consumption','Highway Utility Factor','Unadjusted City MPG (FT1)','Unadjusted Highway MPG (FT1)','Unadjusted City MPG (FT2)',\n",
    "                         'Unadjusted Highway MPG (FT2)','Transmission Descriptor','Engine Cylinders','Engine Displacement','City Utility Factor','Highway MPG (FT1)','Unrounded Highway MPG (FT1)',\n",
    "                        'Highway MPG (FT2)','Unrounded Highway MPG (FT2)','Highway Gasoline Consumption (CD)','Turbocharger','Supercharger','Fuel Type 1','Fuel Type 2','City MPG (FT1)','City MPG (FT2)',\n",
    "                        'City Gasoline Consumption (CD)','City Electricity Consumption','Vehicle ID'])\n",
    "                   .dropna()\n",
    "                   .reset_index(drop=True)\n",
    "                   .assign(Overal_costs=data['Annual Fuel Cost (FT1)']*5-data['Save or Spend (5 Year)'])\n",
    "                   ))\n",
    "\n",
    "\n",
    "data1\n",
    "\n",
    "data1.to_csv('garnoor_processed_data.csv', index=False)"
   ]
  }
 ],
 "metadata": {
  "kernelspec": {
   "display_name": "Python 3 (ipykernel)",
   "language": "python",
   "name": "python3"
  },
  "language_info": {
   "codemirror_mode": {
    "name": "ipython",
    "version": 3
   },
   "file_extension": ".py",
   "mimetype": "text/x-python",
   "name": "python",
   "nbconvert_exporter": "python",
   "pygments_lexer": "ipython3",
   "version": "3.8.5"
  }
 },
 "nbformat": 4,
 "nbformat_minor": 5
}
